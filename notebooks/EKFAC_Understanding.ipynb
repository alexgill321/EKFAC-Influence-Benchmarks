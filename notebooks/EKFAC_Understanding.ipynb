{
  "cells": [
    {
      "cell_type": "code",
      "execution_count": 24,
      "metadata": {},
      "outputs": [
        {
          "name": "stdout",
          "output_type": "stream",
          "text": [
            "Downloading http://yann.lecun.com/exdb/mnist/train-images-idx3-ubyte.gz\n"
          ]
        },
        {
          "name": "stderr",
          "output_type": "stream",
          "text": [
            "0.7%"
          ]
        },
        {
          "name": "stdout",
          "output_type": "stream",
          "text": [
            "Downloading http://yann.lecun.com/exdb/mnist/train-images-idx3-ubyte.gz to ../data\\MNIST\\raw\\train-images-idx3-ubyte.gz\n"
          ]
        },
        {
          "name": "stderr",
          "output_type": "stream",
          "text": [
            "100.0%\n"
          ]
        },
        {
          "name": "stdout",
          "output_type": "stream",
          "text": [
            "Extracting ../data\\MNIST\\raw\\train-images-idx3-ubyte.gz to ../data\\MNIST\\raw\n",
            "\n",
            "Downloading http://yann.lecun.com/exdb/mnist/train-labels-idx1-ubyte.gz\n",
            "Downloading http://yann.lecun.com/exdb/mnist/train-labels-idx1-ubyte.gz to ../data\\MNIST\\raw\\train-labels-idx1-ubyte.gz\n"
          ]
        },
        {
          "name": "stderr",
          "output_type": "stream",
          "text": [
            "100.0%\n"
          ]
        },
        {
          "name": "stdout",
          "output_type": "stream",
          "text": [
            "Extracting ../data\\MNIST\\raw\\train-labels-idx1-ubyte.gz to ../data\\MNIST\\raw\n",
            "\n",
            "Downloading http://yann.lecun.com/exdb/mnist/t10k-images-idx3-ubyte.gz\n",
            "Downloading http://yann.lecun.com/exdb/mnist/t10k-images-idx3-ubyte.gz to ../data\\MNIST\\raw\\t10k-images-idx3-ubyte.gz\n"
          ]
        },
        {
          "name": "stderr",
          "output_type": "stream",
          "text": [
            "100.0%\n"
          ]
        },
        {
          "name": "stdout",
          "output_type": "stream",
          "text": [
            "Extracting ../data\\MNIST\\raw\\t10k-images-idx3-ubyte.gz to ../data\\MNIST\\raw\n",
            "\n",
            "Downloading http://yann.lecun.com/exdb/mnist/t10k-labels-idx1-ubyte.gz\n"
          ]
        },
        {
          "name": "stderr",
          "output_type": "stream",
          "text": [
            "100.0%"
          ]
        },
        {
          "name": "stdout",
          "output_type": "stream",
          "text": [
            "Downloading http://yann.lecun.com/exdb/mnist/t10k-labels-idx1-ubyte.gz to ../data\\MNIST\\raw\\t10k-labels-idx1-ubyte.gz\n",
            "Extracting ../data\\MNIST\\raw\\t10k-labels-idx1-ubyte.gz to ../data\\MNIST\\raw\n",
            "\n"
          ]
        },
        {
          "name": "stderr",
          "output_type": "stream",
          "text": [
            "\n"
          ]
        },
        {
          "data": {
            "image/png": "[encoded data removed]",
            "text/plain": [
              "<Figure size 640x480 with 10 Axes>"
            ]
          },
          "metadata": {},
          "output_type": "display_data"
        }
      ],
      "source": [
        "import sys\n",
        "sys.path.append('../')\n",
        "import torch\n",
        "from src.linear_nn import get_model\n",
        "from src.model_eval import train_dataset\n",
        "\n",
        "\n",
        "# Load the model\n",
        "model = get_model()"
      ]
    },
    {
      "cell_type": "code",
      "execution_count": 16,
      "metadata": {
        "id": "FGiJ0k8v00qi"
      },
      "outputs": [],
      "source": [
        "# from torch.utils.data import Dataset, DataLoader\n",
        "# import torch\n",
        "# class dataset(Dataset):\n",
        "#   def __init__(self,x,y):\n",
        "#     self.x = torch.tensor(x,dtype=torch.float32)\n",
        "#     self.y = torch.tensor(y,dtype=torch.float32)\n",
        "#     self.length = self.x.shape[0]\n",
        "\n",
        "#   def __getitem__(self,idx):\n",
        "#     return self.x[idx],self.y[idx]\n",
        "#   def __len__(self):\n",
        "#     return self.length\n",
        "# trainset = dataset(train_data, y_train)\n",
        "# queryset = dataset(test_data, y_test)"
      ]
    },
    {
      "cell_type": "code",
      "execution_count": 17,
      "metadata": {
        "id": "wuaaUbt97Ghg"
      },
      "outputs": [],
      "source": [
        "from torch import nn\n",
        "from torch.nn import functional as F\n",
        "\n",
        "class Net(nn.Module):\n",
        "  def __init__(self,input_shape):\n",
        "    super(Net,self).__init__()\n",
        "    self.fc1 = nn.Linear(input_shape,32)\n",
        "    self.fc2 = nn.Linear(32,64)\n",
        "    self.fc3 = nn.Linear(64,1)\n",
        "  def forward(self,x):\n",
        "    x = torch.relu(self.fc1(x))\n",
        "    x = torch.relu(self.fc2(x))\n",
        "    x = self.fc3(x)\n",
        "    return x"
      ]
    },
    {
      "cell_type": "code",
      "execution_count": 18,
      "metadata": {
        "id": "kibxNxZR89YB"
      },
      "outputs": [],
      "source": [
        "from torch import optim\n",
        "network = Net(x.shape[1])\n",
        "optimizer = optim.Adam(network.parameters(), lr=0.001)"
      ]
    },
    {
      "cell_type": "code",
      "execution_count": 19,
      "metadata": {
        "id": "AKKZs6Py9Q3-"
      },
      "outputs": [],
      "source": [
        "from torch.optim.optimizer import Optimizer\n",
        "\n",
        "class EKFACDistilled(Optimizer):\n",
        "    def __init__(self, net, eps):\n",
        "        self.eps = eps\n",
        "        self.params = []\n",
        "        self._fwd_handles = []\n",
        "        self._bwd_handles = []\n",
        "        self.net = net\n",
        "        for mod in net.modules():\n",
        "            mod_class = mod.__class__.__name__\n",
        "            if mod_class in ['Linear']:\n",
        "                handle = mod.register_forward_pre_hook(self._save_input)\n",
        "                self._fwd_handles.append(handle)\n",
        "                handle = mod.register_full_backward_hook(self._save_grad_output)\n",
        "                self._bwd_handles.append(handle)\n",
        "                params = [mod.weight]\n",
        "                if mod.bias is not None:\n",
        "                    params.append(mod.bias)\n",
        "                d = {'params': params, 'mod': mod, 'layer_type': mod_class, 'A': [], 'S': []}\n",
        "                self.params.append(d)\n",
        "        super(EKFACDistilled, self).__init__(self.params, {})\n",
        "\n",
        "    def step(self):\n",
        "        for group in self.param_groups:\n",
        "            if len(group['params']) == 2:\n",
        "                weight, bias = group['params']\n",
        "            else:\n",
        "                weight = group['params'][0]\n",
        "                bias = None\n",
        "            state = self.state[weight]\n",
        "\n",
        "            self._compute_kfe(group, state)\n",
        "\n",
        "            self._precond(weight, bias, group, state)\n",
        "\n",
        "    def calc_cov(self, calc_act: bool = True):\n",
        "        for group in self.param_groups:\n",
        "            if len(group['params']) == 2:\n",
        "                weight, bias = group['params']\n",
        "            else:\n",
        "                weight = group['params'][0]\n",
        "                bias = None\n",
        "\n",
        "            state = self.state[weight]\n",
        "\n",
        "            mod = group['mod']\n",
        "            x = self.state[group['mod']]['x']\n",
        "            gy = self.state[group['mod']]['gy']\n",
        "\n",
        "            # Computation of activation cov matrix for batch\n",
        "            x = x.data.t()\n",
        "\n",
        "            # Append column of ones to x if bias is not None\n",
        "            if mod.bias is not None:\n",
        "                ones = torch.ones_like(x[:1])\n",
        "                x = torch.cat([x, ones], dim=0)\n",
        "            \n",
        "            if calc_act:\n",
        "                # Calculate covariance matrix for activations (A_{l-1})\n",
        "                A = torch.mm(x, x.t()) / float(x.shape[1])\n",
        "                group['A'].append(A)\n",
        "\n",
        "            # Computation of psuedograd of layer output cov matrix for batch\n",
        "            gy = gy.data.t()\n",
        "\n",
        "            # Calculate covariance matrix for layer outputs (S_{l})\n",
        "            S = torch.mm(gy, gy.t()) / float(gy.shape[1])\n",
        "\n",
        "            group['S'].append(S)\n",
        "\n",
        "    def _compute_kfe(self, group, state):\n",
        "        mod = group['mod']\n",
        "        x = self.state[group['mod']]['x']\n",
        "        gy = self.state[group['mod']]['gy']\n",
        "        \n",
        "        # Computation of xxt\n",
        "        x = x.data.t() # transpose of activations\n",
        "\n",
        "        # Append column of ones to x if bias is not None\n",
        "        if mod.bias is not None:\n",
        "            ones = torch.ones_like(x[:1])\n",
        "            x = torch.cat([x, ones], dim=0)\n",
        "\n",
        "        # Calculate covariance matrix for activations (A_{l-1})\n",
        "        xxt = torch.mm(x, x.t()) / float(x.shape[1])\n",
        "\n",
        "        # Calculate eigenvalues and eigenvectors of covariance matrix (lambdaA, QA)\n",
        "        la, state['Qa'] = torch.linalg.eigh(xxt, UPLO='U')\n",
        "\n",
        "        # Computation of ggt\n",
        "        gy = gy.data.t()\n",
        "\n",
        "        # Calculate covariance matrix for layer outputs (S_{l})\n",
        "        ggt = torch.mm(gy, gy.t()) / float(gy.shape[1])\n",
        "\n",
        "        # Calculate eigenvalues and eigenvectors of covariance matrix (lambdaS, QS)\n",
        "        ls, state['Qs'] = torch.linalg.eigh(ggt, UPLO='U')\n",
        "\n",
        "        # Outer product of the eigenvalue vectors. Of shape (len(s) x len(a))\n",
        "        state['m2'] = ls.unsqueeze(1) * la.unsqueeze(0)\n",
        "\n",
        "    def _precond(self, weight, bias, group, state):\n",
        "        \"\"\"Applies preconditioning.\"\"\"\n",
        "        Qa = state['Qa']\n",
        "        Qs = state['Qs']\n",
        "        m2 = state['m2']\n",
        "        x = self.state[group['mod']]['x']\n",
        "        gy = self.state[group['mod']]['gy']\n",
        "        g = weight.grad.data\n",
        "        s = g.shape\n",
        "        s_x = x.size()\n",
        "        s_gy = gy.size()\n",
        "        bs = x.size(0)\n",
        "\n",
        "        # Append column of ones to x if bias is not None\n",
        "        if bias is not None:\n",
        "            ones = torch.ones_like(x[:,:1])\n",
        "            x = torch.cat([x, ones], dim=1)\n",
        "        \n",
        "        # KFE of activations ??\n",
        "        x_kfe = torch.mm(x, Qa)\n",
        "\n",
        "        # KFE of layer outputs ??\n",
        "        gy_kfe = torch.mm(gy, Qs)\n",
        "\n",
        "        m2 = torch.mm(gy_kfe.t()**2, x_kfe**2) / bs\n",
        "\n",
        "        g_kfe = torch.mm(gy_kfe.t(), x_kfe) / bs\n",
        "\n",
        "        g_nat_kfe = g_kfe / (m2 + self.eps)\n",
        "\n",
        "        g_nat = torch.mm(g_nat_kfe, Qs.t())\n",
        "\n",
        "        if bias is not None:\n",
        "            gb = g_nat[:, -1].contiguous().view(*bias.shape)\n",
        "            bias.grad.data = gb\n",
        "            g_nat = g_nat[:, :-1]\n",
        "        \n",
        "        g_nat = g_nat.contiguous().view(*s)\n",
        "        weight.grad.data = g_nat\n",
        "\n",
        "    def _save_input(self, mod, i):\n",
        "        \"\"\"Saves input of layer to compute covariance.\"\"\"\n",
        "        self.state[mod]['x'] = i[0]\n",
        "\n",
        "    def _save_grad_output(self, mod, grad_input, grad_output):\n",
        "        \"\"\"Saves grad on output of layer to compute covariance.\"\"\"\n",
        "        self.state[mod]['gy'] = grad_output[0] * grad_output[0].size(0)"
      ]
    },
    {
      "cell_type": "code",
      "execution_count": 20,
      "metadata": {},
      "outputs": [],
      "source": [
        "import captum._utils.common as common\n",
        "from captum.influence._core.influence import DataInfluence\n",
        "from torch.nn import Module\n",
        "from typing import Any, Callable, Dict, List, Optional, Tuple, Union\n",
        "from torch import Tensor\n",
        "import torch.distributions as dist\n",
        "\n",
        "\n",
        "class EKFACInfluence(DataInfluence):\n",
        "    def __init__(\n",
        "        self,\n",
        "        module: Module,\n",
        "        layers: Union[str, List[str]],\n",
        "        influence_src_dataset: Dataset,\n",
        "        activation_dir: str,\n",
        "        model_id: str = \"\",\n",
        "        batch_size: int = 1,\n",
        "        query_batch_size: int = 1,\n",
        "        **kwargs: Any,\n",
        "    ) -> None:\n",
        "        r\"\"\"\n",
        "        Args:\n",
        "            module (Module): An instance of pytorch model. This model should define all of its\n",
        "                layers as attributes of the model. The output of the model must be logits for the\n",
        "                classification task.\n",
        "            layers (Union[str, List[str]]): A list of layer names for which the influence will\n",
        "                be computed.\n",
        "            influence_src_dataset (torch.utils.data.Dataset): Pytorch dataset that is used to create\n",
        "                a pytorch dataloader to iterate over the dataset. This is the dataset for which we will\n",
        "                be seeking for influential instances. In most cases this is the training dataset.\n",
        "            activation_dir (str): Path to the directory where the activation computations will be stored.\n",
        "            model_id (str): The name/version of the model for which layer activations are being computed.\n",
        "                Activations will be stored and loaded under the subdirectory with this name if provided.\n",
        "            batch_size (int): Batch size for the dataloader used to iterate over the influence_src_dataset.\n",
        "            **kwargs: Any additional arguments that are necessary for specific implementations of the\n",
        "                'DataInfluence' abstract class.\n",
        "        \"\"\"\n",
        "        self.module = module\n",
        "        self.layers = [layers] if isinstance(layers, str) else layers\n",
        "        self.influence_src_dataset = influence_src_dataset\n",
        "        self.activation_dir = activation_dir\n",
        "        self.model_id = model_id\n",
        "        self.batch_size = batch_size\n",
        "        self.query_batch_size = query_batch_size\n",
        "\n",
        "        self.influence_src_dataloader = DataLoader(\n",
        "            self.influence_src_dataset, batch_size=batch_size, shuffle=False\n",
        "        )\n",
        "    \n",
        "    def influence(\n",
        "            self,\n",
        "            inputs: Dataset,\n",
        "            topk: int = 1,\n",
        "            additional_forward_args: Optional[Any] = None,\n",
        "            load_src_from_disk: bool = True,\n",
        "            **kwargs: Any,\n",
        "        ) -> Dict:\n",
        "\n",
        "        inputs_batch_size = (\n",
        "            inputs[0].shape[0] if isinstance(inputs, tuple) else inputs.shape[0]\n",
        "        )\n",
        "\n",
        "        influences: Dict[str, Any] = {}\n",
        "        query_grads: Dict[str, List[Tensor]] = {}\n",
        "        influence_src_grads: Dict[str, List[Tensor]] = {}\n",
        "\n",
        "        query_dataloader = DataLoader(\n",
        "            inputs, batch_size=self.query_batch_size, shuffle=False\n",
        "        )\n",
        "\n",
        "        layer_modules = [\n",
        "            common._get_module_from_name(self.module, layer) for layer in self.layers\n",
        "        ]\n",
        "\n",
        "        G_list = self._compute_EKFAC_GNH()\n",
        "\n",
        "        for i, (queries, targets) in enumerate(query_dataloader):\n",
        "            criterion = torch.nn.CrossEntropyLoss()\n",
        "            self.module.zero_grad()\n",
        "            queries, targets = inputs\n",
        "            outputs = self.module(queries)\n",
        "            loss = criterion(outputs, targets.view(-1))\n",
        "            loss.backward()\n",
        "\n",
        "            for layer in layer_modules:\n",
        "                if layer.bias is not None:\n",
        "                    grad_bias = layer.bias.grad\n",
        "                    grad_weights = layer.weight.grad\n",
        "                    grads = torch.cat([grad_weights.view(-1), grad_bias.view(-1)], dim=1)\n",
        "                else:\n",
        "                    grads = layer.weight.grad.view(-1)\n",
        "                for grad in grads:\n",
        "                    query_grads[layer].append(grad)\n",
        "\n",
        "        for i, (inputs, targets) in enumerate(self.influence_src_dataloader):\n",
        "            self.module.zero_grad()\n",
        "            outputs = self.module(inputs)\n",
        "            loss = criterion(outputs, targets.view(-1))\n",
        "            loss.backward()\n",
        "\n",
        "            for layer in layer_modules:\n",
        "                if layer.bias is not None:\n",
        "                    grad_bias = layer.bias.grad\n",
        "                    grad_weights = layer.weight.grad\n",
        "                    grads = torch.cat([grad_weights.view(-1), grad_bias.view(-1)], dim=1)\n",
        "                else:\n",
        "                    grads = layer.weight.grad.view(-1)\n",
        "                for grad in grads:\n",
        "                    influence_src_grads[layer].append(grad)\n",
        "        \n",
        "        for layer in layer_modules:\n",
        "            query_grads[layer] = torch.stack(query_grads[layer])\n",
        "            influence_src_grads[layer] = torch.stack(influence_src_grads[layer])\n",
        "            influences[layer] = torch.matmul(influence_src_grads[layer], torch.matmul(G_list[layer], query_grads[layer]).t())\n",
        "\n",
        "        return influences\n",
        "            \n",
        "\n",
        "    def _compute_EKFAC_GNH(self, n_samples: int = 2):\n",
        "        ekfac = EKFACDistilled(self.module, 1e-5)\n",
        "        loss_fn = torch.nn.CrossEntropyLoss(reduction='sum')\n",
        "        for i, (input, _) in enumerate(self.influence_src_dataloader):\n",
        "            outputs = self.module(input)\n",
        "            output_probs = torch.softmax(outputs, dim=-1)\n",
        "            distribution = dist.Categorical(output_probs)\n",
        "            for j in range(n_samples):\n",
        "                samples = distribution.sample()\n",
        "                loss = loss_fn(outputs, samples)\n",
        "                loss.backward()\n",
        "                ekfac.step()\n",
        "                self.module.zero_grad()\n",
        "        \n",
        "        G_list = []\n",
        "        # Compute average A and S\n",
        "        for group in ekfac.param_groups:\n",
        "            A = torch.stack(group['A']).mean(dim=0)\n",
        "            S = torch.stack(group['S']).mean(dim=0)\n",
        "        \n",
        "            # Compute eigenvalues and eigenvectors of A and S\n",
        "            la, Qa = torch.linalg.eigh(A, UPLO='U')\n",
        "            ls, Qs = torch.linalg.eigh(S, UPLO='U')\n",
        "\n",
        "            # Compute Kronecker product of eigenvalues and eigenvectors\n",
        "            eigenvec_kron = torch.kron(Qa, Qs)\n",
        "\n",
        "            eigenval_kron = torch.kron(torch.diag(la),torch.diag(ls))\n",
        "\n",
        "            # Compute GNH\n",
        "            G_list.append(torch.matmul(eigenvec_kron, torch.matmul(eigenval_kron, eigenvec_kron.t())))\n",
        "            \n",
        "        return G_list"
      ]
    },
    {
      "cell_type": "code",
      "execution_count": 21,
      "metadata": {
        "colab": {
          "base_uri": "https://localhost:8080/"
        },
        "id": "Jcuk4RoJ9dIM",
        "outputId": "6096bb71-01cb-4934-e929-35ed660117e9"
      },
      "outputs": [
        {
          "name": "stdout",
          "output_type": "stream",
          "text": [
            "Net\n",
            "**********************\n",
            "Linear\n",
            "**********************\n",
            "Linear\n",
            "**********************\n",
            "Linear\n",
            "**********************\n"
          ]
        }
      ],
      "source": [
        "precond = EKFACDistilled(network, eps=0.001)\n",
        "influence = EKFACInfluence(network, layers=['fc1', 'fc2'], influence_src_dataset=trainset, activation_dir='activations', model_id='test', batch_size=64, query_batch_size=32)\n",
        "criterion = torch.nn.CrossEntropyLoss()\n",
        "\n",
        "for mod in network.modules():\n",
        "  mod_class = mod.__class__.__name__\n",
        "  print(mod_class)\n",
        "  print(\"**********************\")"
      ]
    },
    {
      "cell_type": "markdown",
      "metadata": {},
      "source": [
        "## Computing the GNH Estimation using EKFACInfluence"
      ]
    },
    {
      "cell_type": "code",
      "execution_count": 22,
      "metadata": {},
      "outputs": [
        {
          "ename": "RuntimeError",
          "evalue": "mat1 and mat2 shapes cannot be multiplied (32x31 and 32x32)",
          "output_type": "error",
          "traceback": [
            "\u001b[1;31m---------------------------------------------------------------------------\u001b[0m",
            "\u001b[1;31mRuntimeError\u001b[0m                              Traceback (most recent call last)",
            "\u001b[1;32mc:\\Users\\alexg\\Documents\\GitHub\\EKFAC-Influence-Benchmarks\\notebooks\\EKFAC_Understanding.ipynb Cell 10\u001b[0m line \u001b[0;36m1\n\u001b[1;32m----> <a href='vscode-notebook-cell:/c%3A/Users/alexg/Documents/GitHub/EKFAC-Influence-Benchmarks/notebooks/EKFAC_Understanding.ipynb#X14sZmlsZQ%3D%3D?line=0'>1</a>\u001b[0m G_list \u001b[39m=\u001b[39m influence\u001b[39m.\u001b[39;49m_compute_EKFAC_GNH(n_samples\u001b[39m=\u001b[39;49m\u001b[39m3\u001b[39;49m)\n",
            "\u001b[1;32mc:\\Users\\alexg\\Documents\\GitHub\\EKFAC-Influence-Benchmarks\\notebooks\\EKFAC_Understanding.ipynb Cell 10\u001b[0m line \u001b[0;36m1\n\u001b[0;32m    <a href='vscode-notebook-cell:/c%3A/Users/alexg/Documents/GitHub/EKFAC-Influence-Benchmarks/notebooks/EKFAC_Understanding.ipynb#X14sZmlsZQ%3D%3D?line=127'>128</a>\u001b[0m         loss \u001b[39m=\u001b[39m loss_fn(outputs, samples)\n\u001b[0;32m    <a href='vscode-notebook-cell:/c%3A/Users/alexg/Documents/GitHub/EKFAC-Influence-Benchmarks/notebooks/EKFAC_Understanding.ipynb#X14sZmlsZQ%3D%3D?line=128'>129</a>\u001b[0m         loss\u001b[39m.\u001b[39mbackward()\n\u001b[1;32m--> <a href='vscode-notebook-cell:/c%3A/Users/alexg/Documents/GitHub/EKFAC-Influence-Benchmarks/notebooks/EKFAC_Understanding.ipynb#X14sZmlsZQ%3D%3D?line=129'>130</a>\u001b[0m         ekfac\u001b[39m.\u001b[39;49mstep()\n\u001b[0;32m    <a href='vscode-notebook-cell:/c%3A/Users/alexg/Documents/GitHub/EKFAC-Influence-Benchmarks/notebooks/EKFAC_Understanding.ipynb#X14sZmlsZQ%3D%3D?line=130'>131</a>\u001b[0m         \u001b[39mself\u001b[39m\u001b[39m.\u001b[39mmodule\u001b[39m.\u001b[39mzero_grad()\n\u001b[0;32m    <a href='vscode-notebook-cell:/c%3A/Users/alexg/Documents/GitHub/EKFAC-Influence-Benchmarks/notebooks/EKFAC_Understanding.ipynb#X14sZmlsZQ%3D%3D?line=132'>133</a>\u001b[0m G_list \u001b[39m=\u001b[39m []\n",
            "File \u001b[1;32mc:\\Users\\alexg\\miniconda3\\envs\\captum_dev\\lib\\site-packages\\torch\\optim\\optimizer.py:373\u001b[0m, in \u001b[0;36mOptimizer.profile_hook_step.<locals>.wrapper\u001b[1;34m(*args, **kwargs)\u001b[0m\n\u001b[0;32m    368\u001b[0m         \u001b[39melse\u001b[39;00m:\n\u001b[0;32m    369\u001b[0m             \u001b[39mraise\u001b[39;00m \u001b[39mRuntimeError\u001b[39;00m(\n\u001b[0;32m    370\u001b[0m                 \u001b[39mf\u001b[39m\u001b[39m\"\u001b[39m\u001b[39m{\u001b[39;00mfunc\u001b[39m}\u001b[39;00m\u001b[39m must return None or a tuple of (new_args, new_kwargs), but got \u001b[39m\u001b[39m{\u001b[39;00mresult\u001b[39m}\u001b[39;00m\u001b[39m.\u001b[39m\u001b[39m\"\u001b[39m\n\u001b[0;32m    371\u001b[0m             )\n\u001b[1;32m--> 373\u001b[0m out \u001b[39m=\u001b[39m func(\u001b[39m*\u001b[39;49margs, \u001b[39m*\u001b[39;49m\u001b[39m*\u001b[39;49mkwargs)\n\u001b[0;32m    374\u001b[0m \u001b[39mself\u001b[39m\u001b[39m.\u001b[39m_optimizer_step_code()\n\u001b[0;32m    376\u001b[0m \u001b[39m# call optimizer step post hooks\u001b[39;00m\n",
            "\u001b[1;32mc:\\Users\\alexg\\Documents\\GitHub\\EKFAC-Influence-Benchmarks\\notebooks\\EKFAC_Understanding.ipynb Cell 10\u001b[0m line \u001b[0;36m3\n\u001b[0;32m     <a href='vscode-notebook-cell:/c%3A/Users/alexg/Documents/GitHub/EKFAC-Influence-Benchmarks/notebooks/EKFAC_Understanding.ipynb#X14sZmlsZQ%3D%3D?line=30'>31</a>\u001b[0m state \u001b[39m=\u001b[39m \u001b[39mself\u001b[39m\u001b[39m.\u001b[39mstate[weight]\n\u001b[0;32m     <a href='vscode-notebook-cell:/c%3A/Users/alexg/Documents/GitHub/EKFAC-Influence-Benchmarks/notebooks/EKFAC_Understanding.ipynb#X14sZmlsZQ%3D%3D?line=32'>33</a>\u001b[0m \u001b[39mself\u001b[39m\u001b[39m.\u001b[39m_compute_kfe(group, state)\n\u001b[1;32m---> <a href='vscode-notebook-cell:/c%3A/Users/alexg/Documents/GitHub/EKFAC-Influence-Benchmarks/notebooks/EKFAC_Understanding.ipynb#X14sZmlsZQ%3D%3D?line=34'>35</a>\u001b[0m \u001b[39mself\u001b[39;49m\u001b[39m.\u001b[39;49m_precond(weight, bias, group, state)\n",
            "\u001b[1;32mc:\\Users\\alexg\\Documents\\GitHub\\EKFAC-Influence-Benchmarks\\notebooks\\EKFAC_Understanding.ipynb Cell 10\u001b[0m line \u001b[0;36m1\n\u001b[0;32m    <a href='vscode-notebook-cell:/c%3A/Users/alexg/Documents/GitHub/EKFAC-Influence-Benchmarks/notebooks/EKFAC_Understanding.ipynb#X14sZmlsZQ%3D%3D?line=128'>129</a>\u001b[0m g_kfe \u001b[39m=\u001b[39m torch\u001b[39m.\u001b[39mmm(gy_kfe\u001b[39m.\u001b[39mt(), x_kfe) \u001b[39m/\u001b[39m bs\n\u001b[0;32m    <a href='vscode-notebook-cell:/c%3A/Users/alexg/Documents/GitHub/EKFAC-Influence-Benchmarks/notebooks/EKFAC_Understanding.ipynb#X14sZmlsZQ%3D%3D?line=130'>131</a>\u001b[0m g_nat_kfe \u001b[39m=\u001b[39m g_kfe \u001b[39m/\u001b[39m (m2 \u001b[39m+\u001b[39m \u001b[39mself\u001b[39m\u001b[39m.\u001b[39meps)\n\u001b[1;32m--> <a href='vscode-notebook-cell:/c%3A/Users/alexg/Documents/GitHub/EKFAC-Influence-Benchmarks/notebooks/EKFAC_Understanding.ipynb#X14sZmlsZQ%3D%3D?line=132'>133</a>\u001b[0m g_nat \u001b[39m=\u001b[39m torch\u001b[39m.\u001b[39;49mmm(g_nat_kfe, Qs\u001b[39m.\u001b[39;49mt())\n\u001b[0;32m    <a href='vscode-notebook-cell:/c%3A/Users/alexg/Documents/GitHub/EKFAC-Influence-Benchmarks/notebooks/EKFAC_Understanding.ipynb#X14sZmlsZQ%3D%3D?line=134'>135</a>\u001b[0m \u001b[39mif\u001b[39;00m bias \u001b[39mis\u001b[39;00m \u001b[39mnot\u001b[39;00m \u001b[39mNone\u001b[39;00m:\n\u001b[0;32m    <a href='vscode-notebook-cell:/c%3A/Users/alexg/Documents/GitHub/EKFAC-Influence-Benchmarks/notebooks/EKFAC_Understanding.ipynb#X14sZmlsZQ%3D%3D?line=135'>136</a>\u001b[0m     gb \u001b[39m=\u001b[39m g_nat[:, \u001b[39m-\u001b[39m\u001b[39m1\u001b[39m]\u001b[39m.\u001b[39mcontiguous()\u001b[39m.\u001b[39mview(\u001b[39m*\u001b[39mbias\u001b[39m.\u001b[39mshape)\n",
            "\u001b[1;31mRuntimeError\u001b[0m: mat1 and mat2 shapes cannot be multiplied (32x31 and 32x32)"
          ]
        }
      ],
      "source": [
        "G_list = influence._compute_EKFAC_GNH(n_samples=3)"
      ]
    },
    {
      "cell_type": "code",
      "execution_count": 10,
      "metadata": {
        "colab": {
          "base_uri": "https://localhost:8080/"
        },
        "id": "_YmB6iG_9dyA",
        "outputId": "7e70ef48-d35e-4646-8792-77ffcb4dbdcd"
      },
      "outputs": [
        {
          "name": "stdout",
          "output_type": "stream",
          "text": [
            "Input Shape: torch.Size([60, 30])\n",
            "tensor([[ 1.0971, -2.0733,  1.2699,  ...,  2.2961,  2.7506,  1.9370],\n",
            "        [ 1.8298, -0.3536,  1.6860,  ...,  1.0871, -0.2439,  0.2812],\n",
            "        [ 1.5799,  0.4562,  1.5665,  ...,  1.9550,  1.1523,  0.2014],\n",
            "        ...,\n",
            "        [ 0.1655,  0.5353,  0.1475,  ...,  1.0475,  1.2898,  1.4106],\n",
            "        [-0.3060,  0.0047, -0.3855,  ..., -1.5759, -0.7470, -1.1668],\n",
            "        [-1.5647, -1.7452, -1.5499,  ..., -1.0722,  0.5165,  0.3499]])\n",
            "Target Shape: torch.Size([60])\n",
            "Output Shape: torch.Size([60, 1])\n"
          ]
        },
        {
          "ename": "AttributeError",
          "evalue": "'EKFACDistilled' object has no attribute 'calculate_cov'",
          "output_type": "error",
          "traceback": [
            "\u001b[1;31m---------------------------------------------------------------------------\u001b[0m",
            "\u001b[1;31mAttributeError\u001b[0m                            Traceback (most recent call last)",
            "\u001b[1;32mc:\\Users\\alexg\\Documents\\GitHub\\EKFAC-Influence-Benchmarks\\notebooks\\EKFAC_Understanding.ipynb Cell 9\u001b[0m line \u001b[0;36m1\n\u001b[0;32m     <a href='vscode-notebook-cell:/c%3A/Users/alexg/Documents/GitHub/EKFAC-Influence-Benchmarks/notebooks/EKFAC_Understanding.ipynb#X11sZmlsZQ%3D%3D?line=15'>16</a>\u001b[0m loss \u001b[39m=\u001b[39m loss_fn(outputs, samples)\n\u001b[0;32m     <a href='vscode-notebook-cell:/c%3A/Users/alexg/Documents/GitHub/EKFAC-Influence-Benchmarks/notebooks/EKFAC_Understanding.ipynb#X11sZmlsZQ%3D%3D?line=16'>17</a>\u001b[0m loss\u001b[39m.\u001b[39mbackward(retain_graph\u001b[39m=\u001b[39m\u001b[39mTrue\u001b[39;00m)\n\u001b[1;32m---> <a href='vscode-notebook-cell:/c%3A/Users/alexg/Documents/GitHub/EKFAC-Influence-Benchmarks/notebooks/EKFAC_Understanding.ipynb#X11sZmlsZQ%3D%3D?line=17'>18</a>\u001b[0m precond\u001b[39m.\u001b[39;49mcalculate_cov(calc_act\u001b[39m=\u001b[39mcalc_act)\n\u001b[0;32m     <a href='vscode-notebook-cell:/c%3A/Users/alexg/Documents/GitHub/EKFAC-Influence-Benchmarks/notebooks/EKFAC_Understanding.ipynb#X11sZmlsZQ%3D%3D?line=18'>19</a>\u001b[0m network\u001b[39m.\u001b[39mzero_grad()\n\u001b[0;32m     <a href='vscode-notebook-cell:/c%3A/Users/alexg/Documents/GitHub/EKFAC-Influence-Benchmarks/notebooks/EKFAC_Understanding.ipynb#X11sZmlsZQ%3D%3D?line=19'>20</a>\u001b[0m calc_act \u001b[39m=\u001b[39m \u001b[39mFalse\u001b[39;00m\n",
            "\u001b[1;31mAttributeError\u001b[0m: 'EKFACDistilled' object has no attribute 'calculate_cov'"
          ]
        }
      ],
      "source": [
        "import torch.distributions as dist\n",
        "loss_fn = nn.CrossEntropyLoss()\n",
        "n_samples = 2\n",
        "for i, (inputs, targets) in enumerate(trainloader):\n",
        "  optimizer.zero_grad\n",
        "  print(f'Input Shape: {inputs.shape}')\n",
        "  print(inputs)\n",
        "  print(f'Target Shape: {targets.shape}')\n",
        "  outputs = network(inputs)\n",
        "  print(f'Output Shape: {outputs.shape}')\n",
        "  output_probs = torch.softmax(outputs, dim=-1)\n",
        "  distribution = dist.Categorical(output_probs)\n",
        "  calc_act = True\n",
        "  for j in range(n_samples):\n",
        "    samples = distribution.sample()\n",
        "    loss = loss_fn(outputs, samples)\n",
        "    loss.backward(retain_graph=True)\n",
        "    precond.calculate_cov(calc_act=calc_act)\n",
        "    network.zero_grad()\n",
        "    calc_act = False\n",
        "  #loss = criterion(outputs, targets.reshape(-1,1))\n",
        "  #loss.backward()"
      ]
    },
    {
      "cell_type": "code",
      "execution_count": 139,
      "metadata": {},
      "outputs": [
        {
          "name": "stdout",
          "output_type": "stream",
          "text": [
            "Linear(in_features=30, out_features=32, bias=True)\n",
            "Activation Cov Matrix len: 10\n",
            "[0.8272504210472107, 0.22340252995491028, 0.824838399887085, 0.7830191254615784, 0.0704726055264473]\n",
            "[1.0926154851913452, 0.41147610545158386, 1.098839521408081, 1.0061488151550293, 0.026723619550466537]\n",
            "[0.8906545042991638, 0.3817518949508667, 0.8857139348983765, 0.8572977185249329, 0.1744510531425476]\n",
            "[1.4418561458587646, 0.562223494052887, 1.435240387916565, 1.5619181394577026, 0.19939666986465454]\n",
            "Output Cov Matrix len: 20\n",
            "Activation Cov Matrix shape: torch.Size([31, 31])\n",
            "Output Cov Matrix shape: torch.Size([32, 32])\n",
            "Linear(in_features=32, out_features=64, bias=True)\n",
            "Activation Cov Matrix len: 10\n",
            "[0.09568451344966888, 0.014156293123960495, 0.09352162480354309, 0.012460540048778057, 0.059680547565221786]\n",
            "[0.17700529098510742, 0.04611698165535927, 0.13976630568504333, 0.0574762187898159, 0.07323087006807327]\n",
            "[0.18632617592811584, 0.039563439786434174, 0.13833092153072357, 0.024181123822927475, 0.1765521615743637]\n",
            "[0.07058145850896835, 0.023563329130411148, 0.05690966546535492, 0.005692372564226389, 0.07210123538970947]\n",
            "Output Cov Matrix len: 20\n",
            "Activation Cov Matrix shape: torch.Size([33, 33])\n",
            "Output Cov Matrix shape: torch.Size([64, 64])\n",
            "Linear(in_features=64, out_features=1, bias=True)\n",
            "Activation Cov Matrix len: 10\n",
            "[0.018378132954239845, 0.002891946816816926, 0.02438117377460003, 0.002100131008774042, 0.016252262517809868]\n",
            "[0.014273939654231071, 0.002608750481158495, 0.018601106479763985, 0.0029885112307965755, 0.01397517416626215]\n",
            "[0.019208768382668495, 0.006254313513636589, 0.024044787511229515, 0.0019855606369674206, 0.013708183541893959]\n",
            "[0.038016900420188904, 0.0034088832326233387, 0.041364267468452454, 0.004512199200689793, 0.05113009735941887]\n",
            "Output Cov Matrix len: 20\n",
            "Activation Cov Matrix shape: torch.Size([65, 65])\n",
            "Output Cov Matrix shape: torch.Size([1, 1])\n"
          ]
        }
      ],
      "source": [
        "for group in precond.param_groups:\n",
        "  print(group['mod'])\n",
        "  print(f'Activation Cov Matrix len: {len(group[\"A\"])}')\n",
        "  print(group['A'][0].tolist()[0][:5])\n",
        "  print(group['A'][1].tolist()[0][:5])\n",
        "  print(group['A'][2].tolist()[0][:5])\n",
        "  print(group['A'][3].tolist()[0][:5])\n",
        "  print(f'Output Cov Matrix len: {len(group[\"S\"])}')\n",
        "  print(f'Activation Cov Matrix shape: {group[\"A\"][0].shape}')\n",
        "  print(f'Output Cov Matrix shape: {group[\"S\"][0].shape}')"
      ]
    },
    {
      "cell_type": "code",
      "execution_count": 137,
      "metadata": {},
      "outputs": [
        {
          "name": "stdout",
          "output_type": "stream",
          "text": [
            "[1.0072457790374756, 0.31007063388824463, 1.0060679912567139, 0.9909204244613647, 0.1981646716594696]\n",
            "Averaged activation matrix: torch.Size([31, 31])\n",
            "Averaged output matrix: torch.Size([32, 32])\n",
            "[0.11650141328573227, 0.031128928065299988, 0.09232742339372635, 0.02067553624510765, 0.08652587234973907]\n",
            "Averaged activation matrix: torch.Size([33, 33])\n",
            "Averaged output matrix: torch.Size([64, 64])\n",
            "[0.02231888845562935, 0.00450670812278986, 0.026402030140161514, 0.0029004632961004972, 0.021502971649169922]\n",
            "Averaged activation matrix: torch.Size([65, 65])\n",
            "Averaged output matrix: torch.Size([1, 1])\n"
          ]
        }
      ],
      "source": [
        "for group in precond.param_groups:\n",
        "    A = torch.stack(group['A']).mean(dim=0)\n",
        "    print(A.tolist()[0][:5])\n",
        "    S = torch.stack(group['S']).mean(dim=0)\n",
        "\n",
        "    print(f'Averaged activation matrix: {A.shape}')\n",
        "    print(f'Averaged output matrix: {S.shape}')"
      ]
    }
  ],
  "metadata": {
    "colab": {
      "provenance": []
    },
    "kernelspec": {
      "display_name": "Python 3",
      "name": "python3"
    },
    "language_info": {
      "codemirror_mode": {
        "name": "ipython",
        "version": 3
      },
      "file_extension": ".py",
      "mimetype": "text/x-python",
      "name": "python",
      "nbconvert_exporter": "python",
      "pygments_lexer": "ipython3",
      "version": "3.8.18"
    }
  },
  "nbformat": 4,
  "nbformat_minor": 0
}
