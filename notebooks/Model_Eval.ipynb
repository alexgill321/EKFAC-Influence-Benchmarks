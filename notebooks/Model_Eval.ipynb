{
 "cells": [
  {
   "cell_type": "code",
   "execution_count": 1,
   "metadata": {},
   "outputs": [
    {
     "data": {
      "image/png": "[encoded data removed]",
      "text/plain": [
       "<Figure size 640x480 with 10 Axes>"
      ]
     },
     "metadata": {},
     "output_type": "display_data"
    }
   ],
   "source": [
    "import sys\n",
    "import torch\n",
    "sys.path.append('../')\n",
    "\n",
    "from src.linear_nn import get_model, load_model, test, load_data\n",
    "from src.model_eval import train_dataset\n",
    "from src.model_eval import train_loader\n",
    "from torch.cpu.amp import autocast\n",
    "net, criterion, optimizer = get_model()"
   ]
  },
  {
   "cell_type": "code",
   "execution_count": 2,
   "metadata": {},
   "outputs": [
    {
     "name": "stdout",
     "output_type": "stream",
     "text": [
      "cuda:0\n"
     ]
    },
    {
     "data": {
      "text/plain": [
       "SimpleNN(\n",
       "  (fc1): Linear(in_features=784, out_features=82, bias=True)\n",
       "  (fc2): Linear(in_features=82, out_features=10, bias=True)\n",
       ")"
      ]
     },
     "execution_count": 2,
     "metadata": {},
     "output_type": "execute_result"
    }
   ],
   "source": [
    "model = load_model(net, filepath='../models/linear_trained_model.pth')\n",
    "device = torch.device(\"cuda:0\" if torch.cuda.is_available() else \"cpu\")\n",
    "print(device)\n",
    "model.to(device)"
   ]
  },
  {
   "cell_type": "code",
   "execution_count": 3,
   "metadata": {},
   "outputs": [],
   "source": [
    "from torch.optim.optimizer import Optimizer\n",
    "\n",
    "class EKFACDistilled(Optimizer):\n",
    "    def __init__(self, net, eps):\n",
    "        self.eps = eps\n",
    "        self.params = []\n",
    "        self._fwd_handles = []\n",
    "        self._bwd_handles = []\n",
    "        self.net = net\n",
    "        self.calc_act = True\n",
    "\n",
    "        for mod in net.modules():\n",
    "            mod_class = mod.__class__.__name__\n",
    "            if mod_class in ['Linear']:\n",
    "                handle = mod.register_forward_pre_hook(self._save_input)\n",
    "                self._fwd_handles.append(handle)\n",
    "                handle = mod.register_full_backward_hook(self._save_grad_output)\n",
    "                self._bwd_handles.append(handle)\n",
    "                params = [mod.weight]\n",
    "                if mod.bias is not None:\n",
    "                    params.append(mod.bias)\n",
    "                d = {'params': params, 'mod': mod, 'layer_type': mod_class, 'A': [], 'S': []}\n",
    "                self.params.append(d)\n",
    "        super(EKFACDistilled, self).__init__(self.params, {})\n",
    "\n",
    "    def step(self):\n",
    "        for group in self.param_groups:\n",
    "            mod = group['mod']\n",
    "            x = self.state[mod]['x']\n",
    "            gy = self.state[mod]['gy']\n",
    "\n",
    "            # Computation of activation cov matrix for batch\n",
    "            x = x.data.t()\n",
    "\n",
    "            # Append column of ones to x if bias is not None\n",
    "            if mod.bias is not None:\n",
    "                ones = torch.ones_like(x[:1])\n",
    "                x = torch.cat([x, ones], dim=0)\n",
    "            \n",
    "            if self.calc_act:\n",
    "                # Calculate covariance matrix for activations (A_{l-1})\n",
    "                group['A'].append(torch.mm(x, x.t()) / float(x.shape[1]))\n",
    "\n",
    "            # Computation of psuedograd of layer output cov matrix for batch\n",
    "            gy = gy.data.t()\n",
    "\n",
    "            # Calculate covariance matrix for layer outputs (S_{l})\n",
    "            group['S'].append(torch.mm(gy, gy.t()) / float(gy.shape[1]))\n",
    "\n",
    "    def _save_input(self, mod, i):\n",
    "        \"\"\"Saves input of layer to compute covariance.\"\"\"\n",
    "        self.state[mod]['x'] = i[0]\n",
    "\n",
    "    def _save_grad_output(self, mod, grad_input, grad_output):\n",
    "        \"\"\"Saves grad on output of layer to compute covariance.\"\"\"\n",
    "        self.state[mod]['gy'] = grad_output[0] * grad_output[0].size(0)"
   ]
  },
  {
   "cell_type": "code",
   "execution_count": 4,
   "metadata": {},
   "outputs": [],
   "source": [
    "import captum._utils.common as common\n",
    "from captum.influence._core.influence import DataInfluence\n",
    "from torch.nn import Module\n",
    "from typing import Any, Dict, List, Union\n",
    "from torch import Tensor\n",
    "import torch.distributions as dist\n",
    "from torch.utils.data import DataLoader, Dataset\n",
    "import tqdm\n",
    "\n",
    "\n",
    "class EKFACInfluence(DataInfluence):\n",
    "    def __init__(\n",
    "        self,\n",
    "        module: Module,\n",
    "        layers: Union[str, List[str]],\n",
    "        influence_src_dataset: Dataset,\n",
    "        activation_dir: str,\n",
    "        model_id: str = \"\",\n",
    "        batch_size: int = 1,\n",
    "        query_batch_size: int = 1,\n",
    "        cov_batch_size: int = 1,\n",
    "        **kwargs: Any,\n",
    "    ) -> None:\n",
    "        r\"\"\"\n",
    "        Args:\n",
    "            module (Module): An instance of pytorch model. This model should define all of its\n",
    "                layers as attributes of the model. The output of the model must be logits for the\n",
    "                classification task.\n",
    "            layers (Union[str, List[str]]): A list of layer names for which the influence will\n",
    "                be computed.\n",
    "            influence_src_dataset (torch.utils.data.Dataset): Pytorch dataset that is used to create\n",
    "                a pytorch dataloader to iterate over the dataset. This is the dataset for which we will\n",
    "                be seeking for influential instances. In most cases this is the training dataset.\n",
    "            activation_dir (str): Path to the directory where the activation computations will be stored.\n",
    "            model_id (str): The name/version of the model for which layer activations are being computed.\n",
    "                Activations will be stored and loaded under the subdirectory with this name if provided.\n",
    "            batch_size (int): Batch size for the dataloader used to iterate over the influence_src_dataset.\n",
    "            **kwargs: Any additional arguments that are necessary for specific implementations of the\n",
    "                'DataInfluence' abstract class.\n",
    "        \"\"\"\n",
    "        self.device = \"cuda\" if torch.cuda.is_available() else \"cpu\"\n",
    "        self.module = module\n",
    "        self.module.to(self.device)\n",
    "        self.layers = [layers] if isinstance(layers, str) else layers\n",
    "        self.influence_src_dataset = influence_src_dataset\n",
    "        self.activation_dir = activation_dir\n",
    "        self.model_id = model_id\n",
    "        self.query_batch_size = query_batch_size\n",
    "\n",
    "        self.influence_src_dataloader = DataLoader(\n",
    "            self.influence_src_dataset, batch_size=batch_size, shuffle=False\n",
    "        )\n",
    "        self.cov_src_dataloader = DataLoader(\n",
    "            self.influence_src_dataset, batch_size=cov_batch_size, shuffle=True\n",
    "        )\n",
    "            \n",
    "    def influence(\n",
    "            self,\n",
    "            query_dataset: Dataset,\n",
    "            topk: int = 1,\n",
    "            eps: float = 1e-5,\n",
    "            **kwargs: Any,\n",
    "        ) -> Dict:\n",
    "\n",
    "        influences: Dict[str, Any] = {}\n",
    "        query_grads: Dict[str, List[Tensor]] = {}\n",
    "        influence_src_grads: Dict[str, List[Tensor]] = {}\n",
    "\n",
    "        query_dataloader = DataLoader(\n",
    "            query_dataset, batch_size=self.query_batch_size, shuffle=False\n",
    "        )\n",
    "\n",
    "        layer_modules = [\n",
    "            common._get_module_from_name(self.module, layer) for layer in self.layers\n",
    "        ]\n",
    "\n",
    "        G_list = self._compute_EKFAC_params()\n",
    "\n",
    "        criterion = torch.nn.NLLLoss(reduction='sum')\n",
    "        print(f'Cacultating query gradients on trained model')\n",
    "        for layer in layer_modules:\n",
    "            query_grads[layer] = []\n",
    "            influence_src_grads[layer] = []\n",
    "\n",
    "        for _, (inputs, targets) in tqdm.tqdm(enumerate(query_dataloader), total=len(query_dataloader)):\n",
    "            self.module.zero_grad()\n",
    "            inputs = inputs.to(self.device)\n",
    "            targets = targets.to(self.device)\n",
    "            outputs = self.module(inputs)\n",
    "\n",
    "            loss = criterion(outputs, targets.view(-1))\n",
    "            loss.backward()\n",
    "\n",
    "            for layer in layer_modules:\n",
    "                Qa = G_list[layer]['Qa']\n",
    "                Qs = G_list[layer]['Qs']\n",
    "                eigenval_diag = G_list[layer]['lambda']\n",
    "                if layer.bias is not None:\n",
    "                    grad_bias = layer.bias.grad\n",
    "                    grad_weights = layer.weight.grad\n",
    "                    grad_bias = grad_bias.reshape(-1, 1)\n",
    "                    grads = torch.cat((grad_weights, grad_bias), dim=1)\n",
    "                else:\n",
    "                    grads = layer.weight.grad\n",
    "\n",
    "                p1 = torch.matmul(Qs, torch.matmul(grads, torch.t(Qa)))\n",
    "                p2 = torch.reciprocal(eigenval_diag+eps).reshape(p1.shape[0], -1)\n",
    "                ihvp = torch.flatten(torch.matmul(torch.t(Qs), torch.matmul((p1/p2), Qa)))\n",
    "                query_grads[layer].append(ihvp)\n",
    "\n",
    "        criterion = torch.nn.CrossEntropyLoss(reduction='none')\n",
    "        print(f'Cacultating training src gradients on trained model')\n",
    "        for i, (inputs, targets) in tqdm.tqdm(enumerate(self.influence_src_dataloader), total=len(self.influence_src_dataloader)):\n",
    "            self.module.zero_grad()\n",
    "            inputs = inputs.to(self.device)\n",
    "            targets = targets.to(self.device)\n",
    "            outputs = self.module(inputs)\n",
    "            loss = criterion(outputs, targets.view(-1))\n",
    "            for single_loss in loss:\n",
    "                single_loss.backward(retain_graph=True)\n",
    "\n",
    "                for layer in layer_modules:\n",
    "                    if layer.bias is not None:\n",
    "                        grad_bias = layer.bias.grad\n",
    "                        grad_weights = layer.weight.grad\n",
    "                        grad_bias = grad_bias.reshape(-1, 1)\n",
    "                        grads = torch.cat([grad_weights, grad_bias], dim=1)\n",
    "                    else:\n",
    "                        grads = layer.weight.grad\n",
    "                    influence_src_grads[layer].append(torch.flatten(grads))\n",
    "\n",
    "            # Calculate influences by batch to save memory\n",
    "            for layer in layer_modules:\n",
    "                query_grad_matrix = torch.stack(query_grads[layer], dim=0)\n",
    "                influence_src_grad_matrix = torch.stack(influence_src_grads[layer], dim=0)\n",
    "                tinf = torch.matmul(query_grad_matrix, torch.t(influence_src_grad_matrix))\n",
    "                tinf = tinf.detach().cpu()\n",
    "                if layer not in influences:\n",
    "                    influences[layer] = tinf\n",
    "                else:\n",
    "                    influences[layer] = torch.cat((influences[layer], tinf), dim=1)\n",
    "                influence_src_grads[layer] = []\n",
    "                \n",
    "        return influences\n",
    "            \n",
    "\n",
    "    def _compute_EKFAC_params(self, n_samples: int = 2):\n",
    "        ekfac = EKFACDistilled(self.module, 1e-5)\n",
    "        loss_fn = torch.nn.CrossEntropyLoss(reduction='sum')\n",
    "        for _, (input, _) in tqdm.tqdm(enumerate(self.cov_src_dataloader), total=len(self.cov_src_dataloader)):\n",
    "            input = input.to(self.device)\n",
    "            outputs = self.module(input)\n",
    "            output_probs = torch.softmax(outputs, dim=-1)\n",
    "            distribution = dist.Categorical(output_probs)\n",
    "            for _ in range(n_samples):\n",
    "                samples = distribution.sample()\n",
    "                loss = loss_fn(outputs, samples)\n",
    "                loss.backward(retain_graph=True)\n",
    "                ekfac.step()\n",
    "                self.module.zero_grad()\n",
    "                optimizer.zero_grad()\n",
    "        \n",
    "        G_list = {}\n",
    "        # Compute average A and S\n",
    "        for group in ekfac.param_groups:\n",
    "            G_list[group['mod']] = {}\n",
    "            with autocast():\n",
    "                A = torch.stack(group['A']).mean(dim=0)\n",
    "                S = torch.stack(group['S']).mean(dim=0)\n",
    "\n",
    "                print(f'Activation cov matrix shape {A.shape}')\n",
    "                print(f'Layer output cov matrix shape {S.shape}')\n",
    "            \n",
    "                # Compute eigenvalues and eigenvectors of A and S\n",
    "                la, Qa = torch.linalg.eigh(A)\n",
    "                ls, Qs = torch.linalg.eigh(S)\n",
    "\n",
    "                eigenval_diags = torch.outer(la, ls).flatten(start_dim=0)\n",
    "\n",
    "            G_list[group['mod']]['Qa'] = Qa\n",
    "            G_list[group['mod']]['Qs'] = Qs\n",
    "            G_list[group['mod']]['lambda'] = eigenval_diags\n",
    "            \n",
    "        return G_list"
   ]
  },
  {
   "cell_type": "code",
   "execution_count": 5,
   "metadata": {},
   "outputs": [
    {
     "name": "stdout",
     "output_type": "stream",
     "text": [
      "SimpleNN\n",
      "**********************\n",
      "Linear\n",
      "**********************\n",
      "Linear\n",
      "**********************\n"
     ]
    }
   ],
   "source": [
    "precond = EKFACDistilled(net, eps=0.001)\n",
    "influence = EKFACInfluence(net, layers=['fc1', 'fc2'], influence_src_dataset=train_dataset, activation_dir='activations', model_id='test', batch_size=64, cov_batch_size=64)\n",
    "criterion = torch.nn.CrossEntropyLoss()\n",
    "\n",
    "for mod in net.modules():\n",
    "  mod_class = mod.__class__.__name__\n",
    "  print(mod_class)\n",
    "  print(\"**********************\")"
   ]
  },
  {
   "cell_type": "code",
   "execution_count": 6,
   "metadata": {},
   "outputs": [],
   "source": [
    "# G_list = influence._compute_EKFAC_params(n_samples=3)\n",
    "# print(G_list)"
   ]
  },
  {
   "cell_type": "code",
   "execution_count": 7,
   "metadata": {},
   "outputs": [
    {
     "name": "stderr",
     "output_type": "stream",
     "text": [
      "100%|██████████| 750/750 [00:11<00:00, 62.56it/s]\n"
     ]
    },
    {
     "name": "stdout",
     "output_type": "stream",
     "text": [
      "Activation cov matrix shape torch.Size([785, 785])\n",
      "Layer output cov matrix shape torch.Size([82, 82])\n",
      "Activation cov matrix shape torch.Size([83, 83])\n",
      "Layer output cov matrix shape torch.Size([10, 10])\n",
      "Cacultating query gradients on trained model\n"
     ]
    },
    {
     "name": "stderr",
     "output_type": "stream",
     "text": [
      "100%|██████████| 500/500 [00:01<00:00, 445.02it/s]\n"
     ]
    },
    {
     "name": "stdout",
     "output_type": "stream",
     "text": [
      "Cacultating training src gradients on trained model\n"
     ]
    },
    {
     "name": "stderr",
     "output_type": "stream",
     "text": [
      "100%|██████████| 750/750 [03:00<00:00,  4.15it/s]\n"
     ]
    }
   ],
   "source": [
    "from torch.utils.data import Subset\n",
    "\n",
    "test_dataset = Subset(train_dataset, range(500))\n",
    "influences = influence.influence(test_dataset)\n"
   ]
  },
  {
   "cell_type": "code",
   "execution_count": 8,
   "metadata": {},
   "outputs": [
    {
     "name": "stdout",
     "output_type": "stream",
     "text": [
      "Linear(in_features=784, out_features=82, bias=True)\n",
      "torch.Size([500, 48000])\n",
      "torch.Size([48000])\n",
      "tensor(13610)\n",
      "tensor(3775)\n",
      "Linear(in_features=82, out_features=10, bias=True)\n",
      "torch.Size([500, 48000])\n",
      "torch.Size([48000])\n",
      "tensor(30398)\n",
      "tensor(1447)\n"
     ]
    }
   ],
   "source": [
    "for layer in influences:\n",
    "    print(layer)\n",
    "    print(influences[layer].shape)\n",
    "    print(influences[layer][0].shape)\n",
    "    print(torch.argmax(influences[layer][0]))\n",
    "    print(torch.argmax(influences[layer][1]))\n"
   ]
  },
  {
   "cell_type": "code",
   "execution_count": 11,
   "metadata": {},
   "outputs": [
    {
     "name": "stdout",
     "output_type": "stream",
     "text": [
      "tensor([  1.2383,   1.3126,   1.7267, -17.5516, -12.8720, -12.8565, -14.0381,\n",
      "         -2.5764,  -2.5460, -63.3743])\n",
      "tensor(1341.0997)\n",
      "tensor([-0.0356,  0.0304,  0.0096,  0.1010, -0.8717, -0.8864, -0.9223, -3.1080,\n",
      "        -3.0519, -2.3310])\n",
      "tensor(162.7636)\n",
      "tensor([  0.2685,   0.2958,   0.5813,  -2.9389,  -0.8351,  -0.7795,  -1.0321,\n",
      "          3.5018,   3.5446, -11.5232])\n",
      "tensor(351.0912)\n",
      "tensor([ -0.4146,  -0.5284,  -0.6953,  52.9431,  41.0568,  41.0352,  41.2562,\n",
      "         31.1643,  31.2948, 164.2375])\n",
      "tensor(1668.4707)\n",
      "tensor([ 0.0238,  0.0347,  0.0287, -1.1209, 20.1839, 20.1832, 20.1262, 22.5008,\n",
      "        22.5547, 17.5511])\n",
      "tensor(167.5736)\n",
      "tensor([-2.3977e-03,  1.7359e-02,  7.0097e-02, -5.4750e+00, -5.8512e+00,\n",
      "        -5.5234e+00, -5.5782e+00,  1.6829e+00,  1.3776e+00, -5.7720e+00])\n",
      "tensor(375.8122)\n",
      "tensor([-0.1342, -0.1502, -0.2004,  1.2080,  0.2780,  0.2764,  1.0949, -3.1430,\n",
      "        -3.1234,  5.1134])\n",
      "tensor(399.2991)\n",
      "tensor([ 0.1920,  0.2533,  0.3880, -4.9119,  1.7385,  1.7201,  1.2006, 62.7421,\n",
      "        62.6945, 42.8597])\n",
      "tensor(603.5699)\n",
      "tensor([  0.2342,   0.2716,   0.3302,  -4.8318,   1.3812,   1.3725,   0.7666,\n",
      "          6.1571,   6.8863, -10.5223])\n",
      "tensor(593.3390)\n",
      "tensor([ -0.3473,  -0.5074,  -0.6802,  36.7018,  25.9186,  25.9064,  26.3409,\n",
      "         15.0218,  15.0624, 214.1397])\n",
      "tensor(1442.8210)\n",
      "tensor([ 2.0250e-03,  7.6414e-02,  7.8213e-02, -1.6416e+01, -1.3450e+01,\n",
      "        -1.3463e+01, -1.3477e+01, -9.5985e+00, -9.6334e+00, -7.9785e+01])\n",
      "tensor(471.6877)\n"
     ]
    }
   ],
   "source": [
    "from torchvision import datasets\n",
    "store_mnist='../data'\n",
    "train_dataset = datasets.MNIST(root=store_mnist, train=True, download=True)\n",
    "import matplotlib.pyplot as plt\n",
    "\n",
    "for layer in influences:\n",
    "    test_influences = influences[layer].detach().clone()\n",
    "    for i, influence in enumerate(test_influences):\n",
    "        print(influence[:10])\n",
    "        print(torch.max(influence))\n",
    "        top = torch.argmax(influence)\n",
    "        influence[top] = 0\n",
    "        count = 0\n",
    "        if i == 10:\n",
    "            break\n",
    "    break\n"
   ]
  }
 ],
 "metadata": {
  "kernelspec": {
   "display_name": "Python 3.8.17 ('img_proc_proj0')",
   "language": "python",
   "name": "python3"
  },
  "language_info": {
   "codemirror_mode": {
    "name": "ipython",
    "version": 3
   },
   "file_extension": ".py",
   "mimetype": "text/x-python",
   "name": "python",
   "nbconvert_exporter": "python",
   "pygments_lexer": "ipython3",
   "version": "3.8.18"
  },
  "orig_nbformat": 4,
  "vscode": {
   "interpreter": {
    "hash": "4f16748fa5b9c7c97742513131751f6102eff5e936588c180718494a87f90c77"
   }
  }
 },
 "nbformat": 4,
 "nbformat_minor": 2
}
